{
 "cells": [
  {
   "cell_type": "code",
   "execution_count": 1,
   "metadata": {
    "collapsed": true
   },
   "outputs": [],
   "source": [
    "from typing import Tuple, List\n",
    "\n",
    "import joblib\n",
    "import pickle\n",
    "\n",
    "import numpy as np\n",
    "import pandas as pd\n",
    "from sklearn.impute import KNNImputer\n",
    "from sklearn.pipeline import Pipeline\n",
    "from sklearn.preprocessing import MinMaxScaler\n",
    "#import xgboost as xgb\n",
    "\n",
    "from preprocessing import CategoricalPreprocessor\n",
    "from preprocessing import DinamChangesInserter\n",
    "from preprocessing import Splitter\n",
    "from cfg import *"
   ]
  },
  {
   "cell_type": "code",
   "execution_count": 2,
   "outputs": [],
   "source": [
    "with open(\"./data/raw/covid_flow.pkl\", 'rb') as data_file:\n",
    "    data = pickle.load(data_file)\n",
    "#data = data.reset_index(drop=True)"
   ],
   "metadata": {
    "collapsed": false,
    "pycharm": {
     "name": "#%%\n"
    }
   }
  },
  {
   "cell_type": "code",
   "execution_count": 3,
   "outputs": [
    {
     "data": {
      "text/plain": "1992"
     },
     "execution_count": 3,
     "metadata": {},
     "output_type": "execute_result"
    }
   ],
   "source": [
    "len(np.unique(data.index))"
   ],
   "metadata": {
    "collapsed": false,
    "pycharm": {
     "name": "#%%\n"
    }
   }
  },
  {
   "cell_type": "code",
   "execution_count": 4,
   "outputs": [
    {
     "data": {
      "text/plain": "['Температура_dinam_fact',\n 'Лимфоциты#_dinam_fact',\n 'АСТ_dinam_fact',\n 'ЧСС_dinam_fact',\n 'ЧДД_dinam_fact',\n 'Билирубин общий_dinam_fact',\n 'MPV- Средн.объем тромбоцитов_dinam_fact',\n 'PCT- Тромбокрит_dinam_fact',\n 'Лимфоциты%_dinam_fact',\n 'снижение_сознания_dinam_fact',\n 'Cтепень тяжести по КТ_dinam_fact',\n 'Лактатдегидрогеназа_dinam_fact',\n 'PDW- Индекс расп.по объему тр._dinam_fact']"
     },
     "execution_count": 4,
     "metadata": {},
     "output_type": "execute_result"
    }
   ],
   "source": [
    "dinam_fact_columns = []\n",
    "for column in data.columns:\n",
    "    if DINAM_FACT_PREFIX in column:\n",
    "        dinam_fact_columns.append(column)\n",
    "dinam_fact_columns"
   ],
   "metadata": {
    "collapsed": false,
    "pycharm": {
     "name": "#%%\n"
    }
   }
  },
  {
   "cell_type": "code",
   "execution_count": 5,
   "outputs": [
    {
     "data": {
      "text/plain": "['трансфузия_dinam_control',\n 'оксигенотерапия_dinam_control',\n 'НИВЛ_dinam_control',\n 'ИВЛ_dinam_control']"
     },
     "execution_count": 5,
     "metadata": {},
     "output_type": "execute_result"
    }
   ],
   "source": [
    "target_columns = []\n",
    "for column in data:\n",
    "    if DINAM_CONTROL_PREFIX in column:\n",
    "        target_columns.append(column)\n",
    "target_columns"
   ],
   "metadata": {
    "collapsed": false,
    "pycharm": {
     "name": "#%%\n"
    }
   }
  },
  {
   "cell_type": "code",
   "execution_count": 6,
   "outputs": [],
   "source": [
    "feat_columns = []\n",
    "for column in data:\n",
    "    if DINAM_CONTROL_PREFIX not in  column and (\n",
    "        STAT_CONTROL_PREFIX in column\n",
    "        or STAT_FACT_PREFIX in  column\n",
    "        or DINAM_FACT_PREFIX in column\n",
    "    ):\n",
    "        feat_columns.append(column)"
   ],
   "metadata": {
    "collapsed": false,
    "pycharm": {
     "name": "#%%\n"
    }
   }
  },
  {
   "cell_type": "code",
   "execution_count": 15,
   "outputs": [],
   "source": [
    "preprocessors = Pipeline(\n",
    "    [\n",
    "        ('encoder', CategoricalPreprocessor()),\n",
    "        ('change_inserter', DinamChangesInserter(use_columns=dinam_fact_columns)),\n",
    "        ('imputer', KNNImputer(n_neighbors=20)),\n",
    "        ('scaler', MinMaxScaler())\n",
    "    ]\n",
    ")\n",
    "\n",
    "feat_data = preprocessors.fit_transform(data[feat_columns])"
   ],
   "metadata": {
    "collapsed": false,
    "pycharm": {
     "name": "#%%\n"
    }
   }
  },
  {
   "cell_type": "code",
   "execution_count": 16,
   "outputs": [],
   "source": [
    "column_train_data = {}\n",
    "for column in target_columns:\n",
    "    temp_data = np.concatenate([feat_data, data[column].values.reshape(-1, 1)], axis=1)\n",
    "    positive_label = temp_data[temp_data[:, -1] == 1]\n",
    "    negative_label = temp_data[temp_data[:, -1] == 0]\n",
    "\n",
    "    negative_label = negative_label[np.random.choice(\n",
    "        np.arange(0, len(negative_label), 1),\n",
    "        size=len(positive_label) * 2,\n",
    "        replace=False)\n",
    "    ]\n",
    "\n",
    "    temp_data = np.concatenate(\n",
    "        [\n",
    "            positive_label,\n",
    "            negative_label\n",
    "        ],\n",
    "        axis=0\n",
    "    )\n",
    "    column_train_data[column] = temp_data\n"
   ],
   "metadata": {
    "collapsed": false,
    "pycharm": {
     "name": "#%%\n"
    }
   }
  },
  {
   "cell_type": "code",
   "execution_count": 17,
   "outputs": [
    {
     "name": "stdout",
     "output_type": "stream",
     "text": [
      "трансфузия_dinam_control - 157.0 - 471\n",
      "оксигенотерапия_dinam_control - 360.0 - 1080\n",
      "НИВЛ_dinam_control - 57.0 - 171\n",
      "ИВЛ_dinam_control - 250.0 - 750\n"
     ]
    }
   ],
   "source": [
    "for column in column_train_data:\n",
    "    print(f'{column} - {column_train_data[column][:, -1].sum()} - {len(column_train_data[column])}')"
   ],
   "metadata": {
    "collapsed": false,
    "pycharm": {
     "name": "#%%\n"
    }
   }
  },
  {
   "cell_type": "code",
   "execution_count": 18,
   "outputs": [],
   "source": [
    "from sklearn.model_selection import train_test_split\n",
    "from sklearn.metrics import confusion_matrix, f1_score\n",
    "from catboost import CatBoostClassifier\n",
    "import xgboost as xgb\n"
   ],
   "metadata": {
    "collapsed": false,
    "pycharm": {
     "name": "#%%\n"
    }
   }
  },
  {
   "cell_type": "code",
   "execution_count": 19,
   "outputs": [
    {
     "name": "stdout",
     "output_type": "stream",
     "text": [
      "трансфузия_dinam_control\n",
      "0.7654320987654322\n",
      "оксигенотерапия_dinam_control\n",
      "0.44755244755244755\n",
      "НИВЛ_dinam_control\n",
      "0.6153846153846154\n",
      "ИВЛ_dinam_control\n",
      "0.7819548872180451\n"
     ]
    }
   ],
   "source": [
    "from sklearn.metrics import make_scorer, f1_score\n",
    "from sklearn.model_selection import GridSearchCV\n",
    "\n",
    "params = {'iterations': [500, 1000, 2000],\n",
    "          'depth': [5, 6],\n",
    "          'loss_function': ['Logloss', 'CrossEntropy'],\n",
    "          'l2_leaf_reg': [1e-20],\n",
    "          'learning_rate' : [0.01, 0.001, 0.05, 0.005],\n",
    "          'leaf_estimation_iterations': [5, 10, 15],\n",
    "          'logging_level':['Silent'],\n",
    "          'random_seed': [42]\n",
    "         }\n",
    "\n",
    "grid_dict = {}\n",
    "for column in target_columns:\n",
    "    print(column)\n",
    "    X_train, X_test, y_train, y_test = train_test_split(\n",
    "        column_train_data[column][:, :-1],\n",
    "        column_train_data[column][:, -1],\n",
    "        random_state=42\n",
    "    )\n",
    "\n",
    "    clf = CatBoostClassifier()\n",
    "    scorer = make_scorer(f1_score)\n",
    "    clf_grid = GridSearchCV(estimator=clf, param_grid=params, scoring=scorer, cv=3, verbose=0)\n",
    "    clf_grid.fit(X_train, y_train)\n",
    "    prediction = clf_grid.best_estimator_.predict(X_test)\n",
    "    print(f1_score(y_test, prediction))\n",
    "    grid_dict[column] = clf_grid"
   ],
   "metadata": {
    "collapsed": false,
    "pycharm": {
     "name": "#%%\n"
    }
   }
  },
  {
   "cell_type": "code",
   "execution_count": 20,
   "outputs": [
    {
     "name": "stdout",
     "output_type": "stream",
     "text": [
      "{'depth': 5, 'iterations': 500, 'l2_leaf_reg': 1e-20, 'leaf_estimation_iterations': 10, 'learning_rate': 0.001, 'logging_level': 'Silent', 'loss_function': 'Logloss', 'random_seed': 42}\n",
      "{'depth': 5, 'iterations': 500, 'l2_leaf_reg': 1e-20, 'leaf_estimation_iterations': 5, 'learning_rate': 0.05, 'logging_level': 'Silent', 'loss_function': 'Logloss', 'random_seed': 42}\n",
      "{'depth': 5, 'iterations': 500, 'l2_leaf_reg': 1e-20, 'leaf_estimation_iterations': 10, 'learning_rate': 0.01, 'logging_level': 'Silent', 'loss_function': 'Logloss', 'random_seed': 42}\n",
      "{'depth': 5, 'iterations': 1000, 'l2_leaf_reg': 1e-20, 'leaf_estimation_iterations': 15, 'learning_rate': 0.01, 'logging_level': 'Silent', 'loss_function': 'Logloss', 'random_seed': 42}\n"
     ]
    }
   ],
   "source": [
    "for column in target_columns:\n",
    "    print(grid_dict[column].best_params_)"
   ],
   "metadata": {
    "collapsed": false,
    "pycharm": {
     "name": "#%%\n"
    }
   }
  },
  {
   "cell_type": "code",
   "execution_count": 21,
   "outputs": [
    {
     "name": "stdout",
     "output_type": "stream",
     "text": [
      "трансфузия_dinam_control\n",
      "0.6206896551724138\n",
      "оксигенотерапия_dinam_control\n",
      "0.4840764331210191\n",
      "НИВЛ_dinam_control\n",
      "0.7741935483870969\n",
      "ИВЛ_dinam_control\n",
      "0.7681159420289856\n"
     ]
    }
   ],
   "source": [
    "params = parameters = {\n",
    "    'max_depth': [4, 5, 6, 7, 8],\n",
    "    'n_estimators': [50, 100, 200, 400, 1000],\n",
    "    'learning_rate': [0.01, 0.001, 0.05, 0.005]\n",
    "}\n",
    "\n",
    "grid_dict2 = {}\n",
    "for column in target_columns:\n",
    "    print(column)\n",
    "    X_train, X_test, y_train, y_test = train_test_split(\n",
    "        column_train_data[column][:, :-1],\n",
    "        column_train_data[column][:, -1],\n",
    "        random_state=42\n",
    "    )\n",
    "\n",
    "    clf = xgb.XGBClassifier()\n",
    "    scorer = make_scorer(f1_score)\n",
    "    clf_grid = GridSearchCV(estimator=clf, param_grid=params, scoring=scorer, cv=3, verbose=0)\n",
    "    clf_grid.fit(X_train, y_train)\n",
    "    prediction = clf_grid.best_estimator_.predict(X_test)\n",
    "    print(f1_score(y_test, prediction))\n",
    "    grid_dict2[column] = clf_grid"
   ],
   "metadata": {
    "collapsed": false,
    "pycharm": {
     "name": "#%%\n"
    }
   }
  },
  {
   "cell_type": "code",
   "execution_count": null,
   "outputs": [],
   "source": [],
   "metadata": {
    "collapsed": false,
    "pycharm": {
     "name": "#%%\n"
    }
   }
  }
 ],
 "metadata": {
  "kernelspec": {
   "display_name": "Python 3",
   "language": "python",
   "name": "python3"
  },
  "language_info": {
   "codemirror_mode": {
    "name": "ipython",
    "version": 2
   },
   "file_extension": ".py",
   "mimetype": "text/x-python",
   "name": "python",
   "nbconvert_exporter": "python",
   "pygments_lexer": "ipython2",
   "version": "2.7.6"
  }
 },
 "nbformat": 4,
 "nbformat_minor": 0
}